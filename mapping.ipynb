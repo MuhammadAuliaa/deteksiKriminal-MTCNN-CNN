{
 "cells": [
  {
   "cell_type": "code",
   "execution_count": null,
   "id": "afdd95ab",
   "metadata": {},
   "outputs": [
    {
     "name": "stdout",
     "output_type": "stream",
     "text": [
      "Mapping selesai! File sudah dipisahkan berdasarkan ID orang.\n"
     ]
    }
   ],
   "source": [
    "import os\n",
    "import shutil\n",
    "\n",
    "# Folder asal gambar\n",
    "src_folder = \"data/criminal/fm_pm\"\n",
    "# Folder tujuan hasil mapping\n",
    "dst_folder = \"data/criminal\"\n",
    "\n",
    "# Loop semua file di folder asal\n",
    "for filename in os.listdir(src_folder):\n",
    "    if filename.endswith(\".png\"):  # hanya ambil file PNG\n",
    "        # Ambil ID orang (potongan sebelum \"_\")\n",
    "        person_id = filename.split(\"_\")[0]\n",
    "\n",
    "        # Buat folder berdasarkan ID orang\n",
    "        person_folder = os.path.join(dst_folder, person_id)\n",
    "        os.makedirs(person_folder, exist_ok=True)\n",
    "\n",
    "        # Pindahkan / copy file ke folder orang masing-masing\n",
    "        src_path = os.path.join(src_folder, filename)\n",
    "        dst_path = os.path.join(person_folder, filename)\n",
    "\n",
    "        shutil.copy(src_path, dst_path)  # pakai copy\n",
    "        # shutil.move(src_path, dst_path)  # pakai move kalau mau sekalian mindahin\n",
    "\n",
    "print(\"Mapping selesai! File sudah dipisahkan berdasarkan ID orang.\")"
   ]
  },
  {
   "cell_type": "code",
   "execution_count": null,
   "id": "718f8a14",
   "metadata": {},
   "outputs": [],
   "source": []
  }
 ],
 "metadata": {
  "kernelspec": {
   "display_name": "base",
   "language": "python",
   "name": "python3"
  },
  "language_info": {
   "codemirror_mode": {
    "name": "ipython",
    "version": 3
   },
   "file_extension": ".py",
   "mimetype": "text/x-python",
   "name": "python",
   "nbconvert_exporter": "python",
   "pygments_lexer": "ipython3",
   "version": "3.13.5"
  }
 },
 "nbformat": 4,
 "nbformat_minor": 5
}
