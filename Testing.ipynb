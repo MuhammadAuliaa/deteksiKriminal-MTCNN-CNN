{
 "cells": [
  {
   "cell_type": "code",
   "execution_count": 16,
   "id": "a2331e72",
   "metadata": {},
   "outputs": [
    {
     "name": "stderr",
     "output_type": "stream",
     "text": [
      "Exception ignored in: <_io.BufferedReader>\n",
      "Traceback (most recent call last):\n",
      "  File \"c:\\Users\\MuhammadAulia\\miniconda3\\Lib\\site-packages\\lz4\\frame\\__init__.py\", line 753, in flush\n",
      "    self._fp.flush()\n",
      "ValueError: I/O operation on closed file.\n",
      "Exception ignored in: <_io.BufferedReader>\n",
      "Traceback (most recent call last):\n",
      "  File \"c:\\Users\\MuhammadAulia\\miniconda3\\Lib\\site-packages\\lz4\\frame\\__init__.py\", line 753, in flush\n",
      "    self._fp.flush()\n",
      "ValueError: I/O operation on closed file.\n",
      "Exception ignored in: <_io.BufferedReader>\n",
      "Traceback (most recent call last):\n",
      "  File \"c:\\Users\\MuhammadAulia\\miniconda3\\Lib\\site-packages\\lz4\\frame\\__init__.py\", line 753, in flush\n",
      "    self._fp.flush()\n",
      "ValueError: I/O operation on closed file.\n"
     ]
    }
   ],
   "source": [
    "import os\n",
    "import numpy as np\n",
    "from PIL import Image\n",
    "import matplotlib.pyplot as plt\n",
    "from sklearn.model_selection import train_test_split\n",
    "from PIL import ImageEnhance, ImageOps\n",
    "import random\n",
    "import os\n",
    "import numpy as np\n",
    "from PIL import Image\n",
    "from mtcnn import MTCNN\n",
    "import cv2\n",
    "import matplotlib.pyplot as plt\n",
    "from mtcnn.mtcnn import MTCNN\n",
    "import os\n",
    "import random\n",
    "from tensorflow.keras.models import load_model\n",
    "import cv2\n",
    "\n",
    "categories = [\"criminal\", \"non-criminal\"]\n",
    "detector = MTCNN()"
   ]
  },
  {
   "cell_type": "code",
   "execution_count": 19,
   "id": "715f6f60",
   "metadata": {},
   "outputs": [
    {
     "name": "stderr",
     "output_type": "stream",
     "text": [
      "WARNING:absl:Compiled the loaded model, but the compiled metrics have yet to be built. `model.compile_metrics` will be empty until you train or evaluate the model.\n"
     ]
    },
    {
     "name": "stdout",
     "output_type": "stream",
     "text": [
      "⚠️ test2.jpg -> 2 wajah terdeteksi, proses testing dilewati.\n"
     ]
    }
   ],
   "source": [
    "loaded_model = load_model(\"model/criminal_classifier.h5\")\n",
    "\n",
    "def predict_image(img_path, target_size=(64,64), threshold=0.6):\n",
    "    # Load image\n",
    "    image_bgr = cv2.imread(img_path)\n",
    "    if image_bgr is None:\n",
    "        raise ValueError(f\"Gagal load gambar: {img_path}\")\n",
    "    image = cv2.cvtColor(image_bgr, cv2.COLOR_BGR2RGB)\n",
    "\n",
    "    # Deteksi wajah\n",
    "    results = detector.detect_faces(image)\n",
    "    if len(results) != 1:\n",
    "        print(f\"⚠️ {os.path.basename(img_path)} -> {len(results)} wajah terdeteksi, proses testing dilewati.\")\n",
    "        return None\n",
    "\n",
    "    x, y, w, h = results[0]['box']\n",
    "    face = image[y:y+h, x:x+w]\n",
    "\n",
    "    # Resize & grayscale\n",
    "    face_resized = cv2.resize(face, target_size)\n",
    "    face_gray = cv2.cvtColor(face_resized, cv2.COLOR_RGB2GRAY)\n",
    "\n",
    "    # Normalisasi & reshape ke format CNN\n",
    "    face_norm = face_gray.astype(\"float32\") / 255.0\n",
    "    face_input = np.expand_dims(face_norm, axis=(0,-1))  # (1,64,64,1)\n",
    "\n",
    "    # Prediksi\n",
    "    pred = loaded_model.predict(face_input)\n",
    "    class_idx = np.argmax(pred)\n",
    "    confidence = np.max(pred)\n",
    "\n",
    "    # Jika confidence rendah\n",
    "    if confidence < threshold:\n",
    "        print(f\"🖼️ File: {os.path.basename(img_path)} | Subject tidak terdeteksi (confidence {confidence:.2f})\")\n",
    "\n",
    "        plt.figure(figsize=(4,4))\n",
    "        plt.imshow(face_gray, cmap=\"gray\")\n",
    "        plt.title(f\"Subject tidak terdeteksi ({confidence:.2f})\")\n",
    "        plt.axis(\"off\")\n",
    "        plt.show()\n",
    "        return \"subject tidak terdeteksi\", confidence\n",
    "\n",
    "    # Kalau confidence cukup tinggi → tampilkan label\n",
    "    print(f\"🖼️ File: {os.path.basename(img_path)} | Predicted: {categories[class_idx]} ({confidence:.2f})\")\n",
    "\n",
    "    plt.figure(figsize=(4,4))\n",
    "    plt.imshow(face_gray, cmap=\"gray\")\n",
    "    plt.title(f\"{categories[class_idx]} ({confidence:.2f})\")\n",
    "    plt.axis(\"off\")\n",
    "    plt.show()\n",
    "\n",
    "    return categories[class_idx], confidence\n",
    "\n",
    "\n",
    "# ==============================\n",
    "# Coba test dengan satu gambar\n",
    "# ==============================\n",
    "# test_img = \"data/non-criminal/S18796367/S18796367-GF-A93-EAF-T00-S1-LH-C1-I0035-F00.png\"\n",
    "test_img = \"data/tidak-terdeteksi/test2.jpg\"\n",
    "predict_image(test_img, threshold=0.65)"
   ]
  },
  {
   "cell_type": "code",
   "execution_count": null,
   "id": "92b90c46",
   "metadata": {},
   "outputs": [],
   "source": []
  }
 ],
 "metadata": {
  "kernelspec": {
   "display_name": "base",
   "language": "python",
   "name": "python3"
  },
  "language_info": {
   "codemirror_mode": {
    "name": "ipython",
    "version": 3
   },
   "file_extension": ".py",
   "mimetype": "text/x-python",
   "name": "python",
   "nbconvert_exporter": "python",
   "pygments_lexer": "ipython3",
   "version": "3.13.5"
  }
 },
 "nbformat": 4,
 "nbformat_minor": 5
}
